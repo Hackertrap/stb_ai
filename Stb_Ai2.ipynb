{
  "nbformat": 4,
  "nbformat_minor": 0,
  "metadata": {
    "colab": {
      "provenance": [],
      "gpuType": "T4",
      "authorship_tag": "ABX9TyPqY+gJQr7zKRJaI3RGJ1LZ",
      "include_colab_link": true
    },
    "kernelspec": {
      "name": "python3",
      "display_name": "Python 3"
    },
    "language_info": {
      "name": "python"
    },
    "accelerator": "GPU"
  },
  "cells": [
    {
      "cell_type": "markdown",
      "metadata": {
        "id": "view-in-github",
        "colab_type": "text"
      },
      "source": [
        "<a href=\"https://colab.research.google.com/github/Hackertrap/stb_ai/blob/main/Stb_Ai2.ipynb\" target=\"_parent\"><img src=\"https://colab.research.google.com/assets/colab-badge.svg\" alt=\"Open In Colab\"/></a>"
      ]
    },
    {
      "cell_type": "code",
      "source": [
        "!pip install diffusers[\"torch\"] transformers\n",
        "!pip install accelerate\n",
        "!pip install git+https://github.com/huggingface/diffusers"
      ],
      "metadata": {
        "id": "T1I63CQ2JSNU"
      },
      "execution_count": null,
      "outputs": []
    },
    {
      "cell_type": "code",
      "source": [
        "import torch\n",
        "from diffusers import StableDiffusionPipeline\n",
        "\n",
        "pipe = StableDiffusionPipeline.from_pretrained(\"LarryAIDraw/caulkinumv2ARForAnime_v10\", torch_dtype=torch.float16)\n",
        "pipe = pipe.to(\"cuda\")\n",
        "pipe.safety_checker= None\n",
        "\n",
        "prompt = \"1girl,solo,breasts,kiana kaslana,twin braids,white hair,hairband,gloves,smile,blue_eyes,bare legs,full body,white comet bodysuit,<lora:kiana kaslana white comet v3:0.7>,\"\n",
        "h=800\n",
        "w=640\n",
        "guidance=7.5\n",
        "neg = \"bad-picture-chill-75v,badhandsv5-neg badv5,easynegative,ng deepnegative v1 75t,negative hand-neg,verybadimagenegative\"\n",
        "steps=50\n",
        "image = pipe(prompt, height=h, width=w, guidance_scale=guidance, negative_prompt=neg, num_inference_steps=steps).images[0]\n",
        "image"
      ],
      "metadata": {
        "id": "9ztZ38etLIdN"
      },
      "execution_count": null,
      "outputs": []
    }
  ]
}