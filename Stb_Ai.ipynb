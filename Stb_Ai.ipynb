{
  "nbformat": 4,
  "nbformat_minor": 0,
  "metadata": {
    "colab": {
      "provenance": [],
      "authorship_tag": "ABX9TyMr1QOxt2LvYET81r8Uhc1Y",
      "include_colab_link": true
    },
    "kernelspec": {
      "name": "python3",
      "display_name": "Python 3"
    },
    "language_info": {
      "name": "python"
    }
  },
  "cells": [
    {
      "cell_type": "markdown",
      "metadata": {
        "id": "view-in-github",
        "colab_type": "text"
      },
      "source": [
        "<a href=\"https://colab.research.google.com/github/Hackertrap/stb_ai/blob/main/Stb_Ai.ipynb\" target=\"_parent\"><img src=\"https://colab.research.google.com/assets/colab-badge.svg\" alt=\"Open In Colab\"/></a>"
      ]
    },
    {
      "cell_type": "code",
      "execution_count": null,
      "metadata": {
        "id": "kxJE_oHBslgp"
      },
      "outputs": [],
      "source": [
        "!pip install diffusers[\"torch\"] transformers\n",
        "!pip install accelerate\n",
        "!pip install git+https://github.com/huggingface/diffusers"
      ]
    },
    {
      "cell_type": "code",
      "source": [
        "import torch\n",
        "from diffusers import StableDiffusionPipeline\n",
        "\n",
        "pipe = StableDiffusionPipeline.from_pretrained(\"stablediffusionapi/animexl-xuebimix\", torch_dtype=torch.float16)\n",
        "pipe = pipe.to(\"cuda\")\n",
        "pipe.safety_checker = None\n",
        "\n",
        "prompt = \"ph_kiana, kianahd,  kianads, <lora:K6-7-000003:0.6> , (masterpiece:1.6, best quality), (finely detailed beautiful eyes: 1.2), ultra-detailed, illustration, beautiful detailed eyes, looking at viewer,  (off shoulder:1.1),  shiny skin,\n",
        "<lora:flowers_landscape-000014:0.3>, flowers, naked\"\n",
        "h=800\n",
        "w=640\n",
        "steps=25\n",
        "guidance=7.5\n",
        "neg=(worst quality, low quality:1.4), monochrome, zombie\n",
        "image = pipe(prompt, height=h, weight=w, num_inferance_steps=steps, guidance_scale=guidance, negative_promp=neg).images[0]\n",
        "image"
      ],
      "metadata": {
        "id": "94O2rirjvJ9v"
      },
      "execution_count": null,
      "outputs": []
    }
  ]
}